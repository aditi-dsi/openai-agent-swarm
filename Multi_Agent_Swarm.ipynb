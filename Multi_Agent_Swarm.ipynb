{
 "cells": [
  {
   "cell_type": "code",
   "execution_count": 1,
   "id": "c928726c-c89e-4786-b83e-2edba2a33b0c",
   "metadata": {},
   "outputs": [
    {
     "name": "stdout",
     "output_type": "stream",
     "text": [
      "\u001b[33mWARNING: Running pip as the 'root' user can result in broken permissions and conflicting behaviour with the system package manager. It is recommended to use a virtual environment instead: https://pip.pypa.io/warnings/venv\u001b[0m\u001b[33m\n",
      "\u001b[0m\u001b[33mWARNING: Running pip as the 'root' user can result in broken permissions and conflicting behaviour with the system package manager. It is recommended to use a virtual environment instead: https://pip.pypa.io/warnings/venv\u001b[0m\u001b[33m\n",
      "\u001b[0m"
     ]
    }
   ],
   "source": [
    "!pip install git+https://github.com/openai/swarm.git --quiet\n",
    "!pip install ollama openai --quiet"
   ]
  },
  {
   "cell_type": "code",
   "execution_count": 4,
   "id": "16c62929-b86f-491f-91fa-1ab21daa2df0",
   "metadata": {},
   "outputs": [],
   "source": [
    "import ollama\n",
    "\n",
    "from openai import OpenAI\n",
    "model = \"llama3.3\"\n",
    "\n",
    "ollama_client = OpenAI(\n",
    "    base_url = \"http://localhost:11434/v1\",\n",
    "    api_key = \"ollama\"\n",
    ")"
   ]
  },
  {
   "cell_type": "code",
   "execution_count": 5,
   "id": "068d4430-4efb-4d05-8f3d-83afdfbdb549",
   "metadata": {},
   "outputs": [
    {
     "name": "stdout",
     "output_type": "stream",
     "text": [
      "I'm happy to help you with any technical issues or product troubleshooting you're experiencing. Please describe the problem you're facing, and I'll do my best to assist you in resolving it. What seems to be the issue?\n"
     ]
    }
   ],
   "source": [
    "from swarm import Swarm, Agent\n",
    "\n",
    "client = Swarm(ollama_client)\n",
    "\n",
    "def escalate_to_tech_support():\n",
    "    return tech_support_agent\n",
    "\n",
    "# Define the sales agent\n",
    "sales_agent = Agent(\n",
    "    name=\"Sales Agent\",\n",
    "    model=model,\n",
    "    instructions=\"You only handle inquiries related to product pricing and offers.\",\n",
    "    functions=[escalate_to_tech_support],\n",
    ")\n",
    "\n",
    "# Define the technical support agent\n",
    "tech_support_agent = Agent(\n",
    "    name=\"Tech Support Agent\",\n",
    "    model=model,\n",
    "    instructions=\"You only handle technical issues related to product troubleshooting.\",\n",
    ")\n",
    "\n",
    "# Simulate conversation with sales agent\n",
    "response = client.run(\n",
    "    agent=sales_agent,\n",
    "    messages=[{\"role\": \"user\", \"content\": \"I need some help from the Tech support. Are you the tech support agent?\"}],\n",
    ")\n",
    "\n",
    "print(response.messages[-1][\"content\"])"
   ]
  },
  {
   "cell_type": "code",
   "execution_count": null,
   "id": "c3f8a2e8-8c5a-4749-b1cf-a8863e4a67ef",
   "metadata": {},
   "outputs": [],
   "source": []
  }
 ],
 "metadata": {
  "kernelspec": {
   "display_name": "Python 3 (ipykernel)",
   "language": "python",
   "name": "python3"
  },
  "language_info": {
   "codemirror_mode": {
    "name": "ipython",
    "version": 3
   },
   "file_extension": ".py",
   "mimetype": "text/x-python",
   "name": "python",
   "nbconvert_exporter": "python",
   "pygments_lexer": "ipython3",
   "version": "3.10.12"
  }
 },
 "nbformat": 4,
 "nbformat_minor": 5
}
